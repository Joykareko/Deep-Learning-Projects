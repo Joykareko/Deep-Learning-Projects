{
  "nbformat": 4,
  "nbformat_minor": 0,
  "metadata": {
    "colab": {
      "name": "00-Intro to Tensor flow with Bourke on YT",
      "provenance": [],
      "authorship_tag": "ABX9TyPQRShkPdiT44BJ85tcOssq",
      "include_colab_link": true
    },
    "kernelspec": {
      "name": "python3",
      "display_name": "Python 3"
    },
    "language_info": {
      "name": "python"
    }
  },
  "cells": [
    {
      "cell_type": "markdown",
      "metadata": {
        "id": "view-in-github",
        "colab_type": "text"
      },
      "source": [
        "<a href=\"https://colab.research.google.com/github/Joykareko/Deep-Learning-Projects/blob/main/00_Intro_to_Tensor_flow_with_Bourke_on_YT.ipynb\" target=\"_parent\"><img src=\"https://colab.research.google.com/assets/colab-badge.svg\" alt=\"Open In Colab\"/></a>"
      ]
    },
    {
      "cell_type": "markdown",
      "metadata": {
        "id": "-laVnTSIHvrg"
      },
      "source": [
        "1. Introduction to Tensors\n",
        "2.Getting Info from tensors\n",
        "3.Manipultaing tensors\n",
        "4. Tensors and Numpy\n",
        "5. Using tf.function( a way to speed up the python function)\n",
        "6. Using GPUs with tensorflow\n",
        "7. Exercises\n"
      ]
    },
    {
      "cell_type": "markdown",
      "metadata": {
        "id": "E0x3V2IgIX7g"
      },
      "source": [
        "**Introduction to Tensors**"
      ]
    },
    {
      "cell_type": "code",
      "metadata": {
        "colab": {
          "base_uri": "https://localhost:8080/"
        },
        "id": "_4_ISISH2gmB",
        "outputId": "6bb099ea-7ecb-4c29-b65d-fd3ad2cea10c"
      },
      "source": [
        "#importing tensorflow\n",
        "import tensorflow as tf\n",
        "print(tf.__version__)"
      ],
      "execution_count": 1,
      "outputs": [
        {
          "output_type": "stream",
          "name": "stdout",
          "text": [
            "2.6.0\n"
          ]
        }
      ]
    },
    {
      "cell_type": "code",
      "metadata": {
        "colab": {
          "base_uri": "https://localhost:8080/"
        },
        "id": "a8y_SmwcI4W9",
        "outputId": "928f556f-3bac-4264-e805-3bc303282fda"
      },
      "source": [
        "#creating tensors/instance\n",
        "scalar = tf.constant(7)\n",
        "scalar"
      ],
      "execution_count": 3,
      "outputs": [
        {
          "output_type": "execute_result",
          "data": {
            "text/plain": [
              "<tf.Tensor: shape=(), dtype=int32, numpy=7>"
            ]
          },
          "metadata": {},
          "execution_count": 3
        }
      ]
    },
    {
      "cell_type": "code",
      "metadata": {
        "colab": {
          "base_uri": "https://localhost:8080/"
        },
        "id": "JmT_r5GsJMT0",
        "outputId": "c79ddede-b807-4552-9bd6-380f496bacde"
      },
      "source": [
        "#checking the ndim of a tensor (number of dimensions)\n",
        "scalar.ndim"
      ],
      "execution_count": 4,
      "outputs": [
        {
          "output_type": "execute_result",
          "data": {
            "text/plain": [
              "0"
            ]
          },
          "metadata": {},
          "execution_count": 4
        }
      ]
    },
    {
      "cell_type": "code",
      "metadata": {
        "colab": {
          "base_uri": "https://localhost:8080/"
        },
        "id": "feuK17zXMsu7",
        "outputId": "d1904301-1dca-4ded-b55a-b662880df1dd"
      },
      "source": [
        "#create a vector\n",
        "vector = tf.constant([10,10])\n",
        "vector"
      ],
      "execution_count": 5,
      "outputs": [
        {
          "output_type": "execute_result",
          "data": {
            "text/plain": [
              "<tf.Tensor: shape=(2,), dtype=int32, numpy=array([10, 10], dtype=int32)>"
            ]
          },
          "metadata": {},
          "execution_count": 5
        }
      ]
    },
    {
      "cell_type": "code",
      "metadata": {
        "colab": {
          "base_uri": "https://localhost:8080/"
        },
        "id": "VozgkDqZNL8u",
        "outputId": "b6cf4808-3b70-49e1-a1fe-fc32ea9f04bb"
      },
      "source": [
        "vector.ndim"
      ],
      "execution_count": 6,
      "outputs": [
        {
          "output_type": "execute_result",
          "data": {
            "text/plain": [
              "1"
            ]
          },
          "metadata": {},
          "execution_count": 6
        }
      ]
    },
    {
      "cell_type": "code",
      "metadata": {
        "colab": {
          "base_uri": "https://localhost:8080/"
        },
        "id": "g_XpSb0aNONj",
        "outputId": "40955f39-e51f-43e8-908d-f3fc3d48b677"
      },
      "source": [
        "#create a matrix\n",
        "matrix = tf.constant([[10,7],\n",
        "                     [7,10]])\n",
        "matrix"
      ],
      "execution_count": 10,
      "outputs": [
        {
          "output_type": "execute_result",
          "data": {
            "text/plain": [
              "<tf.Tensor: shape=(2, 2), dtype=int32, numpy=\n",
              "array([[10,  7],\n",
              "       [ 7, 10]], dtype=int32)>"
            ]
          },
          "metadata": {},
          "execution_count": 10
        }
      ]
    },
    {
      "cell_type": "code",
      "metadata": {
        "colab": {
          "base_uri": "https://localhost:8080/"
        },
        "id": "hBejU_dUNxXh",
        "outputId": "dd139bc1-2708-4f3a-dfdd-1a9be460340e"
      },
      "source": [
        "matrix.ndim"
      ],
      "execution_count": 11,
      "outputs": [
        {
          "output_type": "execute_result",
          "data": {
            "text/plain": [
              "2"
            ]
          },
          "metadata": {},
          "execution_count": 11
        }
      ]
    },
    {
      "cell_type": "code",
      "metadata": {
        "colab": {
          "base_uri": "https://localhost:8080/"
        },
        "id": "PYRTTWBqN2RI",
        "outputId": "82c3ce06-d281-447e-b951-d8d610334663"
      },
      "source": [
        "matrix_2 = tf.constant([[10.,7.],\n",
        "                        [10.,8.],\n",
        "                        [9.,12.]] ,dtype = tf.float16)\n",
        "\n",
        "matrix_2"
      ],
      "execution_count": 15,
      "outputs": [
        {
          "output_type": "execute_result",
          "data": {
            "text/plain": [
              "<tf.Tensor: shape=(3, 2), dtype=float16, numpy=\n",
              "array([[10.,  7.],\n",
              "       [10.,  8.],\n",
              "       [ 9., 12.]], dtype=float16)>"
            ]
          },
          "metadata": {},
          "execution_count": 15
        }
      ]
    },
    {
      "cell_type": "code",
      "metadata": {
        "colab": {
          "base_uri": "https://localhost:8080/"
        },
        "id": "jsyd08qmXX1o",
        "outputId": "16190533-4eac-4fa0-da92-be8533cf26c2"
      },
      "source": [
        "matrix_2.ndim"
      ],
      "execution_count": 16,
      "outputs": [
        {
          "output_type": "execute_result",
          "data": {
            "text/plain": [
              "2"
            ]
          },
          "metadata": {},
          "execution_count": 16
        }
      ]
    },
    {
      "cell_type": "code",
      "metadata": {
        "id": "n_ryIcfDXdAu"
      },
      "source": [
        "#creating a tensor\n"
      ],
      "execution_count": null,
      "outputs": []
    }
  ]
}